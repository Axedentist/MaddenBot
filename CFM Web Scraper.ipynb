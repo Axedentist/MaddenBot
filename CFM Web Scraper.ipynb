{
 "cells": [
  {
   "cell_type": "code",
   "execution_count": 1,
   "metadata": {},
   "outputs": [],
   "source": [
    "import requests\n",
    "import logging\n",
    "import pandas as pd\n",
    "from bs4 import BeautifulSoup\n",
    "import re"
   ]
  },
  {
   "cell_type": "code",
   "execution_count": 2,
   "metadata": {},
   "outputs": [],
   "source": [
    "r = requests.get('https://daddyleagues.com/dbml/player/45732844')\n",
    "\n",
    "c = r.content\n",
    "\n",
    "soup = BeautifulSoup(c, 'html.parser')\n",
    "\n",
    "general_info = soup.find_all('div', {'class': 'col-10 py-3 rounded-right cfm-player-info'})"
   ]
  },
  {
   "cell_type": "code",
   "execution_count": 3,
   "metadata": {},
   "outputs": [
    {
     "data": {
      "text/plain": [
       "[<div class=\"col-3\">\n",
       " <h3 class=\"m-0\">5'11''</h3>\n",
       " <p class=\"m-0 text-muted\">Height</p>\n",
       " </div>,\n",
       " <div class=\"col-3\">\n",
       " <h3 class=\"m-0\">  215 </h3>\n",
       " <p class=\"m-0 text-muted\">Weight</p>\n",
       " </div>,\n",
       " <div class=\"col-3\">\n",
       " <h3 class=\"m-0\"> 35 </h3>\n",
       " <p class=\"m-0 text-muted\">Age</p>\n",
       " </div>,\n",
       " <div class=\"col-3\">\n",
       " <h3 class=\"m-0\">12 yrs </h3>\n",
       " <p class=\"m-0 text-muted\">Exp</p>\n",
       " </div>]"
      ]
     },
     "execution_count": 3,
     "metadata": {},
     "output_type": "execute_result"
    }
   ],
   "source": [
    "general_info[0].find_all('div', {'class': 'col-3'})"
   ]
  },
  {
   "cell_type": "code",
   "execution_count": 9,
   "metadata": {},
   "outputs": [],
   "source": [
    "def cfm_web_scraper(link):\n",
    "    r = requests.get(link)\n",
    "\n",
    "    c = r.content\n",
    "\n",
    "    soup = BeautifulSoup(c, 'html.parser')\n",
    "\n",
    "    player_info = soup.find_all('div', {'class': 'col-10 py-3 rounded-right cfm-player-info'})\n",
    "    \n",
    "    d = {}\n",
    "    \n",
    "    name_info_list = player_info[0].find('div', {'class': 'h2 mt-0'}).text.split(' ')\n",
    "    general_info_list = player_info[0].find_all('div', {'class': 'col-3'})\n",
    "    dev_info_list = player_info[0].find_all('div', {'class': 'col-4'})\n",
    "    \n",
    "    if len(name_info_list) == 11:\n",
    "        d['Name'] = name_info_list[1] + ' ' + name_info_list[2]\n",
    "        d['Position'] = name_info_list[4]\n",
    "        d['Overall'] = int(name_info_list[8])\n",
    "    else:\n",
    "        if name_info_list[1] == 'Ha':\n",
    "            name_info_list.pop(2)\n",
    "            name_info_list[1] = 'Ha\\'Sean'\n",
    "        d['Name'] = name_info_list[1] + ' ' + name_info_list[2] + ' ' + name_info_list[3]\n",
    "        d['Position'] = name_info_list[5]\n",
    "        if name_info_list[1] == \"Ha'Sean\":\n",
    "            d['Overall'] = name_info_list[8]\n",
    "        else:\n",
    "            d['Overall'] = name_info_list[9]\n",
    "\n",
    "    d['Height'] = general_info_list[0].text.replace('\\n', '')[0:5]\n",
    "    d['Weight'] = int(general_info_list[1].text.replace('\\n', '')[0:3])\n",
    "    d['Age'] = int(general_info_list[2].text.replace('\\n', '')[0:2])\n",
    "    d['Years in League'] = general_info_list[3].text.replace('\\n', '')[0:6]\n",
    "\n",
    "    d['Dev'] = dev_info_list[1].text.replace('\\n', '')\n",
    "    d['Trade Value'] = int(re.sub(\"[^0-9]\", \"\", dev_info_list[2].text.replace('\\n', '')))\n",
    "    \n",
    "    return d"
   ]
  },
  {
   "cell_type": "code",
   "execution_count": 10,
   "metadata": {},
   "outputs": [
    {
     "data": {
      "text/plain": [
       "{'Name': \"Ha'Sean Clinton-Dix \",\n",
       " 'Position': '#36',\n",
       " 'Overall': '80',\n",
       " 'Height': \"6'1''\",\n",
       " 'Weight': 2,\n",
       " 'Age': 3,\n",
       " 'Years in League': '10 yrs',\n",
       " 'Dev': 'Star  Dev',\n",
       " 'Trade Value': 23}"
      ]
     },
     "execution_count": 10,
     "metadata": {},
     "output_type": "execute_result"
    }
   ],
   "source": [
    "d = cfm_web_scraper('https://daddyleagues.com/dbml/player/45731878')\n",
    "d"
   ]
  },
  {
   "cell_type": "code",
   "execution_count": 11,
   "metadata": {},
   "outputs": [
    {
     "data": {
      "text/html": [
       "<div>\n",
       "<style scoped>\n",
       "    .dataframe tbody tr th:only-of-type {\n",
       "        vertical-align: middle;\n",
       "    }\n",
       "\n",
       "    .dataframe tbody tr th {\n",
       "        vertical-align: top;\n",
       "    }\n",
       "\n",
       "    .dataframe thead th {\n",
       "        text-align: right;\n",
       "    }\n",
       "</style>\n",
       "<table border=\"1\" class=\"dataframe\">\n",
       "  <thead>\n",
       "    <tr style=\"text-align: right;\">\n",
       "      <th></th>\n",
       "      <th>Name</th>\n",
       "      <th>Position</th>\n",
       "      <th>Overall</th>\n",
       "      <th>Height</th>\n",
       "      <th>Weight</th>\n",
       "      <th>Age</th>\n",
       "      <th>Years in League</th>\n",
       "      <th>Dev</th>\n",
       "      <th>Trade Value</th>\n",
       "    </tr>\n",
       "  </thead>\n",
       "  <tbody>\n",
       "    <tr>\n",
       "      <th>0</th>\n",
       "      <td>Ha'Sean Clinton-Dix</td>\n",
       "      <td>#36</td>\n",
       "      <td>80</td>\n",
       "      <td>6'1''</td>\n",
       "      <td>2</td>\n",
       "      <td>3</td>\n",
       "      <td>10 yrs</td>\n",
       "      <td>Star  Dev</td>\n",
       "      <td>23</td>\n",
       "    </tr>\n",
       "  </tbody>\n",
       "</table>\n",
       "</div>"
      ],
      "text/plain": [
       "                   Name Position Overall Height  Weight  Age Years in League  \\\n",
       "0  Ha'Sean Clinton-Dix       #36      80  6'1''       2    3          10 yrs   \n",
       "\n",
       "         Dev  Trade Value  \n",
       "0  Star  Dev           23  "
      ]
     },
     "execution_count": 11,
     "metadata": {},
     "output_type": "execute_result"
    }
   ],
   "source": [
    "pd.DataFrame(d, index=[0])"
   ]
  },
  {
   "cell_type": "code",
   "execution_count": null,
   "metadata": {},
   "outputs": [],
   "source": []
  }
 ],
 "metadata": {
  "kernelspec": {
   "display_name": "Python 3",
   "language": "python",
   "name": "python3"
  },
  "language_info": {
   "codemirror_mode": {
    "name": "ipython",
    "version": 3
   },
   "file_extension": ".py",
   "mimetype": "text/x-python",
   "name": "python",
   "nbconvert_exporter": "python",
   "pygments_lexer": "ipython3",
   "version": "3.7.7"
  }
 },
 "nbformat": 4,
 "nbformat_minor": 4
}
