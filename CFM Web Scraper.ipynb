{
 "cells": [
  {
   "cell_type": "code",
   "execution_count": 1,
   "metadata": {},
   "outputs": [],
   "source": [
    "import requests\n",
    "import logging\n",
    "import pandas as pd\n",
    "from bs4 import BeautifulSoup\n",
    "import re"
   ]
  },
  {
   "cell_type": "code",
   "execution_count": 171,
   "metadata": {},
   "outputs": [],
   "source": [
    "r = requests.get('https://daddyleagues.com/dbml/player/45732844')\n",
    "\n",
    "c = r.content\n",
    "\n",
    "soup = BeautifulSoup(c, 'html.parser')\n",
    "\n",
    "player_info = soup.find_all('div', {'class': 'card flex-row align-items-center align-items-stretch rounded-left Teamcolors'})\n",
    "contract_info = soup.find_all('div', {'class': 'd-flex Teamcolors'})"
   ]
  },
  {
   "cell_type": "code",
   "execution_count": 172,
   "metadata": {},
   "outputs": [],
   "source": [
    "contract_info_list = [i for i in contract_info[0].text.replace('\\n', ' ').split(' ') + contract_info[1].text.replace('\\n', ' ').split(' ') if i != '']\n",
    "player_info_list = [i for i in player_info[0].find('div', {'class': 'col-10 py-3 rounded-right cfm-player-info'}).text.replace('\\n', ' ').split(' ') if i != '']"
   ]
  },
  {
   "cell_type": "code",
   "execution_count": 173,
   "metadata": {},
   "outputs": [
    {
     "data": {
      "text/plain": [
       "['Russell',\n",
       " 'Wilson',\n",
       " 'QB',\n",
       " '#3',\n",
       " '89',\n",
       " 'OVR',\n",
       " \"5'11''\",\n",
       " 'Height',\n",
       " '215',\n",
       " 'Weight',\n",
       " '35',\n",
       " 'Age',\n",
       " '12',\n",
       " 'yrs',\n",
       " 'Exp',\n",
       " 'Wisconsin',\n",
       " 'College',\n",
       " 'X-Factor',\n",
       " 'Dev',\n",
       " '291',\n",
       " 'Trade',\n",
       " 'Value',\n",
       " 'Drafted:',\n",
       " '13th',\n",
       " 'Pick,',\n",
       " '3rd',\n",
       " 'Round\\t',\n",
       " 'Trade',\n",
       " 'Worth:',\n",
       " 'Late',\n",
       " '2nd',\n",
       " 'Rd',\n",
       " 'Pick']"
      ]
     },
     "execution_count": 173,
     "metadata": {},
     "output_type": "execute_result"
    }
   ],
   "source": [
    "player_info_list "
   ]
  },
  {
   "cell_type": "code",
   "execution_count": 174,
   "metadata": {},
   "outputs": [],
   "source": [
    "def cfm_web_scraper(link):\n",
    "    r = requests.get(link)\n",
    "\n",
    "    c = r.content\n",
    "\n",
    "    soup = BeautifulSoup(c, 'html.parser')\n",
    "\n",
    "    player_info = soup.find_all('div', {'class': 'card flex-row align-items-center align-items-stretch rounded-left Teamcolors'})\n",
    "    contract_info = soup.find_all('div', {'class': 'd-flex Teamcolors'})\n",
    "    \n",
    "    d = {}\n",
    "    \n",
    "    contract_info_list = [i for i in contract_info[0].text.replace('\\n', ' ').split(' ') + contract_info[1].text.replace('\\n', ' ').split(' ') if i != '']\n",
    "    player_info_list = [i for i in player_info[0].find('div', {'class': 'col-10 py-3 rounded-right cfm-player-info'}).text.replace('\\n', ' ').split(' ') if i != '']\n",
    "    \n",
    "    if player_info_list[0] != 'Ha':\n",
    "        d['Name'] = player_info_list[0] + ' ' + player_info_list[1]\n",
    "        d['Position'] = player_info_list[2]\n",
    "        d['Overall'] = int(player_info_list[4])\n",
    "    else:\n",
    "        player_info_list.pop(1)\n",
    "        player_info_list[0] = \"Ha'Sean\"\n",
    "        d['Name'] = player_info_list[0] + ' ' + player_info_list[1]\n",
    "        d['Position'] = player_info_list[2]\n",
    "        d['Overall'] = int(player_info_list[4])\n",
    "\n",
    "    d['Height'] = player_info_list[6]\n",
    "    d['Weight'] = player_info_list[8]\n",
    "    d['Age'] = player_info_list[10]\n",
    "    d['Years in League'] = player_info_list[12]\n",
    "\n",
    "    d['Dev'] = player_info_list[17]\n",
    "    d['Trade Value'] = player_info_list[19]\n",
    "    \n",
    "    d['Contract Total'] = contract_info_list[0]\n",
    "    d['Years Total'] = contract_info_list[2]\n",
    "    d['Salary'] = contract_info_list[7]\n",
    "    d['Cap Hit'] = contract_info_list[9]\n",
    "    d['Years Left'] = contract_info_list[12]\n",
    "    \n",
    "    d['Link'] = link\n",
    "    \n",
    "    return d"
   ]
  },
  {
   "cell_type": "code",
   "execution_count": 176,
   "metadata": {},
   "outputs": [
    {
     "data": {
      "text/plain": [
       "{'Name': \"Ha'Sean Clinton-Dix\",\n",
       " 'Position': 'SS',\n",
       " 'Overall': 80,\n",
       " 'Height': \"6'1''\",\n",
       " 'Weight': '208',\n",
       " 'Age': '31',\n",
       " 'Years in League': '10',\n",
       " 'Dev': 'Star',\n",
       " 'Trade Value': '23',\n",
       " 'Contract Total': '$15.25M',\n",
       " 'Years Total': '5',\n",
       " 'Salary': '$6.48M',\n",
       " 'Cap Hit': '$2.70M',\n",
       " 'Years Left': '1',\n",
       " 'Link': 'https://daddyleagues.com/dbml/player/45731878'}"
      ]
     },
     "execution_count": 176,
     "metadata": {},
     "output_type": "execute_result"
    }
   ],
   "source": [
    "d = cfm_web_scraper('https://daddyleagues.com/dbml/player/45731878')\n",
    "d"
   ]
  },
  {
   "cell_type": "code",
   "execution_count": 177,
   "metadata": {},
   "outputs": [
    {
     "data": {
      "text/html": [
       "<div>\n",
       "<style scoped>\n",
       "    .dataframe tbody tr th:only-of-type {\n",
       "        vertical-align: middle;\n",
       "    }\n",
       "\n",
       "    .dataframe tbody tr th {\n",
       "        vertical-align: top;\n",
       "    }\n",
       "\n",
       "    .dataframe thead th {\n",
       "        text-align: right;\n",
       "    }\n",
       "</style>\n",
       "<table border=\"1\" class=\"dataframe\">\n",
       "  <thead>\n",
       "    <tr style=\"text-align: right;\">\n",
       "      <th></th>\n",
       "      <th>Name</th>\n",
       "      <th>Position</th>\n",
       "      <th>Overall</th>\n",
       "      <th>Height</th>\n",
       "      <th>Weight</th>\n",
       "      <th>Age</th>\n",
       "      <th>Years in League</th>\n",
       "      <th>Dev</th>\n",
       "      <th>Trade Value</th>\n",
       "      <th>Contract Total</th>\n",
       "      <th>Years Total</th>\n",
       "      <th>Salary</th>\n",
       "      <th>Cap Hit</th>\n",
       "      <th>Years Left</th>\n",
       "      <th>Link</th>\n",
       "    </tr>\n",
       "  </thead>\n",
       "  <tbody>\n",
       "    <tr>\n",
       "      <th>0</th>\n",
       "      <td>Ha'Sean Clinton-Dix</td>\n",
       "      <td>SS</td>\n",
       "      <td>80</td>\n",
       "      <td>6'1''</td>\n",
       "      <td>208</td>\n",
       "      <td>31</td>\n",
       "      <td>10</td>\n",
       "      <td>Star</td>\n",
       "      <td>23</td>\n",
       "      <td>$15.25M</td>\n",
       "      <td>5</td>\n",
       "      <td>$6.48M</td>\n",
       "      <td>$2.70M</td>\n",
       "      <td>1</td>\n",
       "      <td>https://daddyleagues.com/dbml/player/45731878</td>\n",
       "    </tr>\n",
       "  </tbody>\n",
       "</table>\n",
       "</div>"
      ],
      "text/plain": [
       "                  Name Position  Overall Height Weight Age Years in League  \\\n",
       "0  Ha'Sean Clinton-Dix       SS       80  6'1''    208  31              10   \n",
       "\n",
       "    Dev Trade Value Contract Total Years Total  Salary Cap Hit Years Left  \\\n",
       "0  Star          23        $15.25M           5  $6.48M  $2.70M          1   \n",
       "\n",
       "                                            Link  \n",
       "0  https://daddyleagues.com/dbml/player/45731878  "
      ]
     },
     "execution_count": 177,
     "metadata": {},
     "output_type": "execute_result"
    }
   ],
   "source": [
    "pd.DataFrame(d, index=[0])"
   ]
  },
  {
   "cell_type": "code",
   "execution_count": null,
   "metadata": {},
   "outputs": [],
   "source": []
  }
 ],
 "metadata": {
  "kernelspec": {
   "display_name": "Python 3",
   "language": "python",
   "name": "python3"
  },
  "language_info": {
   "codemirror_mode": {
    "name": "ipython",
    "version": 3
   },
   "file_extension": ".py",
   "mimetype": "text/x-python",
   "name": "python",
   "nbconvert_exporter": "python",
   "pygments_lexer": "ipython3",
   "version": "3.7.7"
  }
 },
 "nbformat": 4,
 "nbformat_minor": 4
}
